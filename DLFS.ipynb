{
  "nbformat": 4,
  "nbformat_minor": 0,
  "metadata": {
    "colab": {
      "name": "DLFS.ipynb",
      "provenance": [],
      "toc_visible": true,
      "authorship_tag": "ABX9TyO0Psfkz6hW2elzH1RIp7+R",
      "include_colab_link": true
    },
    "kernelspec": {
      "name": "python3",
      "display_name": "Python 3"
    },
    "language_info": {
      "name": "python"
    }
  },
  "cells": [
    {
      "cell_type": "markdown",
      "metadata": {
        "id": "view-in-github",
        "colab_type": "text"
      },
      "source": [
        "<a href=\"https://colab.research.google.com/github/agyanigiri/DLFS/blob/main/DLFS.ipynb\" target=\"_parent\"><img src=\"https://colab.research.google.com/assets/colab-badge.svg\" alt=\"Open In Colab\"/></a>"
      ]
    },
    {
      "cell_type": "markdown",
      "source": [
        "# Imports"
      ],
      "metadata": {
        "id": "dAsMjz3j8c5E"
      }
    },
    {
      "cell_type": "code",
      "execution_count": 1,
      "metadata": {
        "id": "7lgae5BDzCoK"
      },
      "outputs": [],
      "source": [
        "import numpy as np"
      ]
    },
    {
      "cell_type": "markdown",
      "source": [
        "# Operations"
      ],
      "metadata": {
        "id": "SFY5Zjo56dSS"
      }
    },
    {
      "cell_type": "code",
      "source": [
        "class Operation:\n",
        "  def __init__(self):\n",
        "    self.input_ = None\n",
        "  \n",
        "  def forward(self, input):\n",
        "    self.input_ = input\n",
        "    self.output = self._output()\n",
        "    return self.output\n",
        "\n",
        "  def backward(self, output_grad):\n",
        "    self.input_grad = self._input_grad(output_grad)\n",
        "    return self.input_grad\n",
        "\n",
        "  def _output(self):\n",
        "    raise NotImplementedError()\n",
        "\n",
        "  def _input_grad(self, output_grad):\n",
        "    raise NotImplementedError()"
      ],
      "metadata": {
        "id": "sgh6DkNN12HK"
      },
      "execution_count": 2,
      "outputs": []
    },
    {
      "cell_type": "code",
      "source": [
        "class ParamOperation(Operation):\n",
        "  def __init__(self, param):\n",
        "    super().__init__()\n",
        "    self.param = param\n",
        "\n",
        "  def backward(self, output_grad):\n",
        "    self.input_grad = self._input_grad(output_grad)\n",
        "    self.param_grad = self._param_grad(output_grad)\n",
        "    return self.input_grad\n",
        "\n",
        "  def _param_grad(self, output_grad):\n",
        "    raise NotImplementedError()"
      ],
      "metadata": {
        "id": "nwT7Ovco29uZ"
      },
      "execution_count": 3,
      "outputs": []
    },
    {
      "cell_type": "code",
      "source": [
        "class WeightMultiply(ParamOperation):\n",
        "  def __init__(self, param):\n",
        "    super().__init__(param)\n",
        "\n",
        "  def _output(self):\n",
        "    return self.input_ @ self.param\n",
        "\n",
        "  def _input_grad(self, output_grad):\n",
        "    return output_grad @ self.param.T\n",
        "\n",
        "  def _param_grad(self, output_grad):\n",
        "    return self.input_.T @ output_grad"
      ],
      "metadata": {
        "id": "tvqG-9St3llm"
      },
      "execution_count": 4,
      "outputs": []
    },
    {
      "cell_type": "code",
      "source": [
        "class BiasAdd(ParamOperation):\n",
        "  def __init__(self, param):\n",
        "    super().__init__(param)\n",
        "  \n",
        "  def _output(self):\n",
        "    return self.input_ + self.param\n",
        "\n",
        "  def _input_grad(self, output_grad):\n",
        "    return output_grad\n",
        "\n",
        "  def _param_grad(self, output_grad):\n",
        "    return output_grad.sum(axis=0, keepdims=True)"
      ],
      "metadata": {
        "id": "MrDHu56x4w39"
      },
      "execution_count": 7,
      "outputs": []
    },
    {
      "cell_type": "code",
      "source": [
        "class Linear(Operation):\n",
        "  def __init__(self):\n",
        "    super().__init__()\n",
        "  \n",
        "  def _output(self):\n",
        "    return self.input_\n",
        "\n",
        "  def _input_grad(self, output_grad):\n",
        "    return output_grad"
      ],
      "metadata": {
        "id": "3J3u9JNM6xlg"
      },
      "execution_count": 8,
      "outputs": []
    },
    {
      "cell_type": "code",
      "source": [
        "class Sigmoid(Operation):\n",
        "  def __init__(self):\n",
        "    super().__init__()\n",
        "\n",
        "  def _output(self):\n",
        "    return 1.0 / (1 + np.exp(-1.0 * self.input_))\n",
        "\n",
        "  def _input_grad(self):\n",
        "    return self.output * (1.0 - self.output)"
      ],
      "metadata": {
        "id": "EYqlz7sX7R7C"
      },
      "execution_count": 9,
      "outputs": []
    },
    {
      "cell_type": "markdown",
      "source": [
        "# Layers"
      ],
      "metadata": {
        "id": "GGf6sGtA8NLK"
      }
    },
    {
      "cell_type": "code",
      "source": [
        ""
      ],
      "metadata": {
        "id": "qWx22Mv48R3P"
      },
      "execution_count": null,
      "outputs": []
    },
    {
      "cell_type": "markdown",
      "source": [
        "# Optimizers"
      ],
      "metadata": {
        "id": "dj6kKtEo8NN3"
      }
    },
    {
      "cell_type": "code",
      "source": [
        ""
      ],
      "metadata": {
        "id": "CDFl7hJa70V3"
      },
      "execution_count": null,
      "outputs": []
    }
  ]
}